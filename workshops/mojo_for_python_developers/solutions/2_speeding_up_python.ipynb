{
 "cells": [
  {
   "cell_type": "markdown",
   "metadata": {},
   "source": [
    "*Copyright 2023 Modular, Inc: Licensed under the Apache License v2.0 with LLVM Exceptions.*"
   ]
  },
  {
   "cell_type": "markdown",
   "metadata": {},
   "source": [
    "# Convert Euclidean distance calculation from Python to Mojo"
   ]
  },
  {
   "cell_type": "markdown",
   "metadata": {},
   "source": [
    "In this simple example we'll calculate the Euclidean distance between two n-dimensional vectors a and b mathematically expressed as the L2-norm of the difference vector: $$ ||a-b||_2 $$"
   ]
  },
  {
   "cell_type": "markdown",
   "metadata": {},
   "source": [
    "### Create 2 random n-dimensional numpy arrays in python"
   ]
  },
  {
   "cell_type": "code",
   "execution_count": 1,
   "metadata": {},
   "outputs": [],
   "source": [
    "%%python\n",
    "import time\n",
    "import numpy as np\n",
    "from math import sqrt\n",
    "from timeit import timeit\n",
    "\n",
    "n = 1000000\n",
    "np.random.seed(42)\n",
    "arr1_np = np.random.rand(n)\n",
    "arr2_np = np.random.rand(n)\n",
    "\n",
    "arr1_list = arr1_np.tolist()\n",
    "arr2_list = arr2_np.tolist()\n",
    "\n",
    "def print_formatter(string, value):\n",
    "    print(f\"{string}: {value}\")"
   ]
  },
  {
   "cell_type": "code",
   "execution_count": 2,
   "metadata": {},
   "outputs": [
    {
     "name": "stdout",
     "output_type": "stream",
     "text": [
      "=== Pure Python Performance ===\n",
      "value: 408.0496057187746\n",
      "time (ms): 32.13715840001896\n"
     ]
    }
   ],
   "source": [
    "%%python\n",
    "# Pure python iterative implementation\n",
    "def python_dist(a,b):\n",
    "    sq_dist = 0.0\n",
    "    n = len(a)\n",
    "    for i in range(n):\n",
    "        diff = a[i]-b[i]\n",
    "        sq_dist += diff*diff\n",
    "    return sqrt(sq_dist)\n",
    "\n",
    "secs = timeit(lambda: python_dist(arr1_list,arr2_list), number=5)/5\n",
    "print(\"=== Pure Python Performance ===\")\n",
    "print_formatter(\"value\", python_dist(arr1_list,arr2_list))\n",
    "print_formatter(\"time (ms)\", 1000*secs)"
   ]
  },
  {
   "cell_type": "code",
   "execution_count": 3,
   "metadata": {},
   "outputs": [
    {
     "name": "stdout",
     "output_type": "stream",
     "text": [
      "=== NumPy Performance ===\n",
      "value: 408.0496057187685\n",
      "time (ms): 1.1309916000755038\n"
     ]
    }
   ],
   "source": [
    "%%python\n",
    "def python_numpy_dist(a,b):\n",
    "    return np.linalg.norm(a-b)\n",
    "\n",
    "secs = timeit(lambda: python_numpy_dist(arr1_np,arr2_np), number=5)/5\n",
    "print(\"=== NumPy Performance ===\")\n",
    "print_formatter(\"value\", python_numpy_dist(arr1_np,arr2_np))\n",
    "print_formatter(\"time (ms)\", 1000*secs)"
   ]
  },
  {
   "cell_type": "code",
   "execution_count": 4,
   "metadata": {},
   "outputs": [],
   "source": [
    "from tensor import Tensor\n",
    "from time import now\n",
    "from math import sqrt\n",
    "\n",
    "let n: Int = 1000000\n",
    "alias dtype = DType.float64\n",
    "var arr1_tensor = Tensor[dtype](n)\n",
    "var arr2_tensor = Tensor[dtype](n)\n",
    "\n",
    "for i in range(n):\n",
    "    arr1_tensor[i] = arr1_np[i].to_float64()\n",
    "    arr2_tensor[i] = arr2_np[i].to_float64()"
   ]
  },
  {
   "cell_type": "code",
   "execution_count": 5,
   "metadata": {},
   "outputs": [
    {
     "name": "stdout",
     "output_type": "stream",
     "text": [
      "=== Mojo Performance ===\n",
      "value: 408.0496057187746\n",
      "time (ms): 1.956\n"
     ]
    }
   ],
   "source": [
    "fn mojo_dist(a: Tensor[dtype], b: Tensor[dtype]) -> Float64:\n",
    "    var sq_dist:Float64 = 0.0\n",
    "    let n = a.num_elements()\n",
    "    for i in range(n):\n",
    "        let diff = a[i]-b[i]\n",
    "        sq_dist += diff*diff\n",
    "    return sqrt(sq_dist)\n",
    "\n",
    "let eval_begin = now()\n",
    "let mojo_arr_sum = mojo_dist(arr1_tensor,arr2_tensor)\n",
    "let eval_end = now()\n",
    "\n",
    "print(\"=== Mojo Performance ===\")\n",
    "print_formatter(\"value\", mojo_arr_sum)\n",
    "print_formatter(\"time (ms)\", Float64((eval_end - eval_begin)) / 1e6)"
   ]
  },
  {
   "cell_type": "code",
   "execution_count": 6,
   "metadata": {},
   "outputs": [
    {
     "name": "stdout",
     "output_type": "stream",
     "text": [
      "value: 408.049605718767\n",
      "time (ms): 0.259\n"
     ]
    }
   ],
   "source": [
    "from sys.info import simdwidthof\n",
    "from algorithm import vectorize\n",
    "\n",
    "alias simd_width = simdwidthof[DType.float64]()\n",
    "\n",
    "fn mojo_dist_vectorized(a: Tensor[DType.float64], b: Tensor[DType.float64]) -> Float64:\n",
    "    var sq_dist: Float64 = 0.0\n",
    "    @parameter\n",
    "    fn simd_norm[simd_width:Int](idx:Int):\n",
    "        let diff = a.simd_load[simd_width](idx) - b.simd_load[simd_width](idx)\n",
    "        sq_dist += (diff*diff).reduce_add()\n",
    "    vectorize[2*simd_width, simd_norm](a.num_elements())\n",
    "    return sqrt(sq_dist)\n",
    "\n",
    "let eval_begin = now()\n",
    "let mojo_arr_vec_sum = mojo_dist_vectorized(arr1_tensor,arr2_tensor)\n",
    "let eval_end = now()\n",
    "\n",
    "print_formatter(\"value\", mojo_arr_vec_sum)\n",
    "print_formatter(\"time (ms)\",((eval_end - eval_begin)) / 1e6)"
   ]
  }
 ],
 "metadata": {
  "kernelspec": {
   "display_name": "Mojo",
   "language": "mojo",
   "name": "mojo-jupyter-kernel"
  },
  "language_info": {
   "codemirror_mode": {
    "name": "mojo"
   },
   "file_extension": ".mojo",
   "mimetype": "text/x-mojo",
   "name": "mojo"
  }
 },
 "nbformat": 4,
 "nbformat_minor": 2
}
