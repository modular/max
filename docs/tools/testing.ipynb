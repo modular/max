{
 "cells": [
  {
   "cell_type": "raw",
   "metadata": {},
   "source": [
    "---\n",
    "title: Testing\n",
    "sidebar_position: 2\n",
    "description: Testing Mojo programs.\n",
    "---"
   ]
  },
  {
   "cell_type": "markdown",
   "metadata": {},
   "source": [
    "The Mojo CLI has a built-in test runner that can be used to test Mojo programs. \n",
    "The `mojo test` command recursively searches the `test` directory for any files\n",
    "with `test` in the filename. For example, given the following directory\n",
    "structure:\n",
    "\n",
    "```bash\n",
    "test/\n",
    "  test_users_controller.mojo\n",
    "  factories.mojo\n",
    "  models/\n",
    "    user_model_tests.mojo\n",
    "```\n",
    "\n",
    "The `mojo` CLI will search `test_users_controller.mojo` and \n",
    "`user_model_tests.mojo` for tests, but not `factories.mojo`. \n",
    "\n",
    "## Test functions\n",
    "\n",
    "Test functions must be named `test_*` and take no arguments. Use `def` notation\n",
    "rather than `fn` notation. By definition, every test function should be capable\n",
    "of raising an error. So:"
   ]
  },
  {
   "cell_type": "code",
   "execution_count": 1,
   "metadata": {},
   "outputs": [],
   "source": [
    "from testing import assert_equal\n",
    "\n",
    "\n",
    "def test_foo():\n",
    "    assert_equal(1, 1)\n"
   ]
  },
  {
   "cell_type": "markdown",
   "metadata": {},
   "source": [
    "\n",
    "Not:\n",
    "\n",
    "```mojo\n",
    "fn test_foo() raises:\n",
    "    assert_equal(1, 1)\n",
    "```\n",
    "\n",
    "The [testing module](/mojo/stdlib/testing/testing) defines a set of test-related\n",
    "utilities. "
   ]
  }
 ],
 "metadata": {
  "kernelspec": {
   "display_name": "Mojo",
   "language": "mojo",
   "name": "mojo-jupyter-kernel"
  },
  "language_info": {
   "codemirror_mode": {
    "name": "mojo"
   },
   "file_extension": ".mojo",
   "mimetype": "text/x-mojo",
   "name": "mojo"
  },
  "orig_nbformat": 4
 },
 "nbformat": 4,
 "nbformat_minor": 2
}
