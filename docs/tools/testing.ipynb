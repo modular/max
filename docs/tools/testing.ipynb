{
 "cells": [
  {
   "cell_type": "raw",
   "metadata": {},
   "source": [
    "---\n",
    "title: Testing\n",
    "sidebar_position: 2\n",
    "description: Testing Mojo programs.\n",
    "css: /static/styles/page-navigation.css\n",
    "website:\n",
    "  open-graph:\n",
    "    image: /static/images/mojo-social-card.png\n",
    "  twitter-card:\n",
    "    image: /static/images/mojo-social-card.png\n",
    "---"
   ],
   "id": "e622ec78c00f1839"
  },
  {
   "cell_type": "markdown",
   "metadata": {},
   "source": [
    "# Built-in test runner\n",
    "\n",
    "## File and folder conventions\n",
    "\n",
    "The Mojo CLI has a built-in test runner that can be used to test Mojo programs. `mojo test` will recursively search the `test` directory for any files with `test` in the filename. So in the following example:\n",
    "```bash\n",
    "ls ./test\n",
    "test_users_controller.mojo\n",
    "factories.mojo\n",
    "./test/models:\n",
    "user_model_tests.mojo\n",
    "```\n",
    "... the `mojo` CLI will search `test_users_controller.mojo` and `user_model_tests.mojo` for tests, but not `factories.mojo`. \n",
    "\n",
    "## Test functions\n",
    "\n",
    "Test functions must be named `test_*` and take no arguments. Use `def` notation rather than `fn` notation. If you use `fn` notation then, in the presence of any assertion  functions, the compiler will complain unless you wrap the body in a `try/exception` block. So:\n",
    "```mojo\n",
    "def test_foo():\n",
    "    assert_equal(1, 1)\n",
    "```\n",
    "\n",
    "Not:\n",
    "```mojo\n",
    "fn test_foo():\n",
    "    assert_equal(1, 1)\n",
    "```\n",
    "\n"
   ],
   "id": "1d92ef1d2dd77643"
  }
 ]
}
