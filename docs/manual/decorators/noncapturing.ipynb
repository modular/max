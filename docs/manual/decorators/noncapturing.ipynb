{
 "cells": [
  {
   "cell_type": "raw",
   "metadata": {},
   "source": [
    "---\n",
    "title: '`@noncapturing`'\n",
    "description: Declares that an inner function does not capture from the outer scope.\n",
    "css: /static/styles/page-navigation.css\n",
    "website:\n",
    "  open-graph:\n",
    "    image: /static/images/mojo-social-card.png\n",
    "  twitter-card:\n",
    "    image: /static/images/mojo-social-card.png\n",
    "---"
   ]
  },
  {
   "attachments": {},
   "cell_type": "markdown",
   "metadata": {},
   "source": [
    "You can add the `@noncapturing` decorator on a nested function to tell Mojo\n",
    "that the function does not capture variables from the outer scope.\n",
    "\n",
    "By default, Mojo assumes that an inner function passed as an argument is a\n",
    "capturing closure, so it requires that you declare the argument in the\n",
    "higher-order function as `capturing`. If your function argument does _not_\n",
    "capture outer variables, then you can declare it as `@noncapturing` and then\n",
    "you don't need the `capturing` declaration on the higher-order function.\n",
    "\n",
    "To clarify, let's look at a closure function that _does_ capture an outer-scope\n",
    "variable:"
   ]
  },
  {
   "cell_type": "code",
   "execution_count": 6,
   "metadata": {},
   "outputs": [
    {
     "name": "stdout",
     "output_type": "stream",
     "text": [
      "Hello\n"
     ]
    }
   ],
   "source": [
    "# This higher-order function must declare the `func` argument as `capturing`\n",
    "fn outer(func: fn() capturing -> String):\n",
    "    print(func())\n",
    "\n",
    "fn call_it():\n",
    "    let a = \"Hello\"\n",
    "    # This is a capturing function, because it uses the outer-scope `a` variable\n",
    "    fn inner() -> String:\n",
    "        return a\n",
    "\n",
    "    outer(inner)\n",
    "\n",
    "call_it()"
   ]
  },
  {
   "cell_type": "markdown",
   "metadata": {},
   "source": [
    "However, if your inner function does not capture anything, then you can drop\n",
    "the `capturing` declaration, but _only if_ you declare the inner function with\n",
    "the `@noncapturing` decorator:"
   ]
  },
  {
   "cell_type": "code",
   "execution_count": 8,
   "metadata": {},
   "outputs": [
    {
     "name": "stdout",
     "output_type": "stream",
     "text": [
      "Holla\n"
     ]
    }
   ],
   "source": [
    "fn outer(func: fn() -> None):\n",
    "    func()\n",
    "\n",
    "fn call_it():\n",
    "    @noncapturing\n",
    "    fn inner():\n",
    "        print(\"Holla\")\n",
    "\n",
    "    outer(inner)\n",
    "\n",
    "call_it()"
   ]
  },
  {
   "cell_type": "markdown",
   "metadata": {},
   "source": [
    "If you remove `@noncapturing` from this code, you'll get a compiler error."
   ]
  }
 ],
 "metadata": {
  "kernelspec": {
   "display_name": "Mojo",
   "language": "mojo",
   "name": "mojo-jupyter-kernel"
  },
  "language_info": {
   "codemirror_mode": {
    "name": "mojo"
   },
   "file_extension": ".mojo",
   "mimetype": "text/x-mojo",
   "name": "mojo"
  },
  "orig_nbformat": 4
 },
 "nbformat": 4,
 "nbformat_minor": 2
}
