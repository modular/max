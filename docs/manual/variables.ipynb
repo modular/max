{
 "cells": [
  {
   "cell_type": "raw",
   "metadata": {},
   "source": [
    "---\n",
    "title: Variables\n",
    "order: 3\n",
    "sidebar_position: 3\n",
    "description: Introduction to Mojo variables.\n",
    "css: /static/styles/page-navigation.css\n",
    "website:\n",
    "  open-graph:\n",
    "    image: /static/images/mojo-social-card.png\n",
    "  twitter-card:\n",
    "    image: /static/images/mojo-social-card.png\n",
    "---"
   ]
  },
  {
   "attachments": {},
   "cell_type": "markdown",
   "metadata": {},
   "source": [
    "A variable is a name that holds a value or object, and it can be either\n",
    "mutable and immutable—that is, it can either \"mutate\" (change) or it can't."
   ]
  },
  {
   "cell_type": "markdown",
   "metadata": {},
   "source": [
    "## Undeclared variables\n",
    "\n",
    "Within a `def` function or a REPL environment, you can create a variable with\n",
    "just a name and a value. For example:"
   ]
  },
  {
   "cell_type": "code",
   "execution_count": 1,
   "metadata": {},
   "outputs": [],
   "source": [
    "name = \"Sam\""
   ]
  },
  {
   "cell_type": "markdown",
   "metadata": {},
   "source": [
    "A variable declared without `var` or `let` is mutable (it defaults to `var`).\n",
    "\n",
    "\n",
    ":::{.callout-note}\n",
    "\n",
    "**Note:** Undeclared variables are not allowed in an `fn` function or as a struct\n",
    "field.\n",
    "\n",
    ":::"
   ]
  },
  {
   "cell_type": "markdown",
   "metadata": {},
   "source": [
    "## Mutable `var` and immutable `let` variables\n",
    "\n",
    "You can declare a variable as mutable with `var` or as immutable\n",
    "with `let`. For example:"
   ]
  },
  {
   "cell_type": "code",
   "execution_count": 2,
   "metadata": {},
   "outputs": [],
   "source": [
    "var name = \"Sam\"  # Mutable\n",
    "let user_id = 42  # Immutable"
   ]
  },
  {
   "attachments": {},
   "cell_type": "markdown",
   "metadata": {},
   "source": [
    "The `name` variable is mutable, so you can change it later, but if you try to\n",
    "change `user_id` after it's initialized, you'll get a compiler error. (You can\n",
    "initialize the value later if you [specify the type](#type-annotations).)\n",
    "\n",
    "Using `var` helps prevent runtime errors caused by typos. For example, if you\n",
    "misspell the name of an [undeclared variable](#undeclared-variables), Mojo\n",
    "simply instantiates a new variable using the misspelled name. But when all\n",
    "mutable variables must be first declared with `var` (which is the case inside\n",
    "an `fn` function), then misspellings such as the following are caught by the\n",
    "compiler:\n",
    "\n",
    "```mojo\n",
    "var name = \"Sam\"\n",
    "# Somewhere later...\n",
    "nane = \"Sammy\"  # This is not allowed in an `fn` function\n",
    "```\n",
    "\n",
    "So, although using `var` is optional in a `def` function, the benefit is\n",
    "realized only when used inside an `fn` function, where the Mojo compiler will\n",
    "flag undeclared variables (such as the above `nane`) as unknown declarations.\n",
    "\n",
    "Whereas, declaring an immutable `let` variable (also known as a \"constant\") is\n",
    "useful in any situation where you want to avoid bugs that can occur when a\n",
    "value is supposed to remain the same but is accidentally changed anyway. By\n",
    "using `let`, the compiler catches these mistakes (in `def` and `fn` functions),\n",
    "so they don't cause errors at runtime. Also, because the `let` value is\n",
    "guaranteed to not change at runtime, the compiler can make some performance\n",
    "optimizations.\n",
    "\n",
    ":::{.callout-note}\n",
    "\n",
    "**Note:** When using Mojo in a REPL environment, top-level variables (variables\n",
    "outside a function or struct) do not require `var` or `let` declarations.\n",
    "\n",
    ":::"
   ]
  },
  {
   "cell_type": "markdown",
   "metadata": {},
   "source": [
    "## Type annotations"
   ]
  },
  {
   "attachments": {},
   "cell_type": "markdown",
   "metadata": {},
   "source": [
    "Although Mojo supports dynamic variable types (it can infer a value type at\n",
    "runtime), it also supports static type annotations on variables. This enables\n",
    "strong compile-time type checking for variables, which can make your code more\n",
    "predictable, manageable, and secure (especially when combined with type\n",
    "checking in [`fn` functions](/mojo/manual/functions.html#fn-functions)).\n",
    "\n",
    "To specify the type for a variable, add a colon followed by the type name:"
   ]
  },
  {
   "cell_type": "code",
   "execution_count": 3,
   "metadata": {},
   "outputs": [],
   "source": [
    "var name: String = \"Sam\""
   ]
  },
  {
   "cell_type": "markdown",
   "metadata": {},
   "source": [
    "This way, `name` can never be assigned a value that's not a string (or that\n",
    "cannot be [implicitly converted](#implicit-type-conversion) to a string).\n",
    "\n",
    ":::{.callout-note}\n",
    "\n",
    "**Note:** You must declare `var` or `let` to use type annotations.\n",
    "\n",
    ":::\n",
    "\n",
    "If a type has a constructor with just one argument, you can initialize it in\n",
    "two ways:"
   ]
  },
  {
   "cell_type": "code",
   "execution_count": 4,
   "metadata": {},
   "outputs": [],
   "source": [
    "var name1: String = \"Sam\"\n",
    "var name2 = String(\"Sam\")"
   ]
  },
  {
   "cell_type": "markdown",
   "metadata": {},
   "source": [
    "Both of these lines invoke the same constructor to create a `String` from a\n",
    "`StringLiteral`."
   ]
  },
  {
   "cell_type": "markdown",
   "metadata": {},
   "source": [
    "### Late initialization"
   ]
  },
  {
   "cell_type": "markdown",
   "metadata": {},
   "source": [
    "Using type annotations allows for late initialization. For example, notice here\n",
    "that the `z` variable is first declared with just a type, and the value is\n",
    "assigned later:"
   ]
  },
  {
   "cell_type": "code",
   "execution_count": 5,
   "metadata": {},
   "outputs": [],
   "source": [
    "fn my_function(x: Int):\n",
    "    let z: Float32\n",
    "    if x != 0:\n",
    "        z = 1.0\n",
    "    else:\n",
    "        z = foo()\n",
    "    print(z)\n",
    "\n",
    "fn foo() -> Float32:\n",
    "    return 3.14"
   ]
  },
  {
   "cell_type": "markdown",
   "metadata": {},
   "source": [
    ":::{.callout-note}\n",
    "\n",
    "**Note:** Late initialization works only if the variable is declared with a\n",
    "type.\n",
    "\n",
    ":::"
   ]
  },
  {
   "cell_type": "markdown",
   "metadata": {},
   "source": [
    "### Implicit type conversion"
   ]
  },
  {
   "cell_type": "markdown",
   "metadata": {},
   "source": [
    "Some types include built-in type conversion (type casting) from one type into\n",
    "its own type. For example, if you assign a number to a `String`, it creates the\n",
    "string `\"1\"` instead of a compiler error:"
   ]
  },
  {
   "cell_type": "code",
   "execution_count": 6,
   "metadata": {},
   "outputs": [],
   "source": [
    "var number: String = 1"
   ]
  },
  {
   "cell_type": "markdown",
   "metadata": {},
   "source": [
    "As shown above, value assignment is just sugaring for a constructor call (which\n",
    "specifies the value type). So, this code uses the\n",
    "[`String`](/mojo/stdlib/builtin/string.html#string) constructor that takes an\n",
    "integer: `__init__(inout self, num: Int)`.\n",
    "\n",
    "This follows the logic of [overloaded\n",
    "functions](/mojo/manual/functions.html#overloaded-functions), because\n",
    "that's exactly what's happening here; assigning a number to a `String` variable\n",
    "is exactly the same as this:"
   ]
  },
  {
   "cell_type": "code",
   "execution_count": 7,
   "metadata": {},
   "outputs": [],
   "source": [
    "var number = String(1)"
   ]
  },
  {
   "cell_type": "markdown",
   "metadata": {},
   "source": [
    "Thus, if you call a function that requires an argument of a certain type (such\n",
    "as `String`), you can pass in any value as long as that value type can\n",
    "implicitly convert to the required type (using one of the type's overloaded\n",
    "constructors).\n",
    "\n",
    "For example, you can pass an `Int` to a function that expects a `String`,\n",
    "because `String` includes a constructor that takes an `Int`:"
   ]
  },
  {
   "cell_type": "code",
   "execution_count": 8,
   "metadata": {},
   "outputs": [],
   "source": [
    "fn take_string(version: String):\n",
    "    print(version)\n",
    "\n",
    "fn pass_integer():\n",
    "    let version: Int = 1\n",
    "    take_string(version)"
   ]
  },
  {
   "cell_type": "markdown",
   "metadata": {},
   "source": [
    "## Variable scopes\n",
    "\n",
    "Variables declared with `var` and `let` are bound by *lexical scoping*. This\n",
    "means that nested code blocks can read and modify variables defined in an\n",
    "outer scope. Conversely, an outer scope cannot read variables defined in an\n",
    "inner scope at all.\n",
    "\n",
    "For example, the `if` code block shown here creates an inner scope where outer\n",
    "variables are accessible to read/write, but any new variables do not live\n",
    "beyond the scope of the `if` block:"
   ]
  },
  {
   "cell_type": "code",
   "execution_count": 9,
   "metadata": {},
   "outputs": [
    {
     "name": "stdout",
     "output_type": "stream",
     "text": [
      "num: 10\n",
      "num: 20\n",
      "num: 10\n",
      "dig: 2\n"
     ]
    }
   ],
   "source": [
    "def lexical_scopes():\n",
    "    let num = 10\n",
    "    var dig = 1\n",
    "    if True:\n",
    "        print(\"num:\", num)  # Reads the outer-scope \"num\"\n",
    "        let num = 20        # Creates new inner-scope \"num\"\n",
    "        print(\"num:\", num)  # Reads the inner-scope \"num\"\n",
    "        dig = 2             # Edits the outer-scope \"dig\"\n",
    "    print(\"num:\", num)      # Reads the outer-scope \"num\"\n",
    "    print(\"dig:\", dig)      # Reads the outer-scope \"dig\"\n",
    "\n",
    "lexical_scopes()"
   ]
  },
  {
   "cell_type": "markdown",
   "metadata": {},
   "source": [
    "The lifetime of the inner `num` ends exactly where the `if` code block ends,\n",
    "because that's the scope in which the variable was defined.\n",
    "\n",
    "This is in contrast to undeclared variables (those without the `var` or `let`\n",
    "keyword), which use **function-level scoping** (consistent with Python variable\n",
    "behavior). That means, when you change the value of an undeclared variable\n",
    "inside the `if` block, it actually changes the value for the entire function.\n",
    "\n",
    "For example, here's the same code but *without* the `let` declarations:"
   ]
  },
  {
   "cell_type": "code",
   "execution_count": 10,
   "metadata": {},
   "outputs": [
    {
     "name": "stdout",
     "output_type": "stream",
     "text": [
      "1\n",
      "2\n",
      "2\n"
     ]
    }
   ],
   "source": [
    "def function_scopes():\n",
    "    num = 1\n",
    "    if num == 1:\n",
    "        print(num)   # Reads the function-scope \"num\"\n",
    "        num = 2      # Updates the function-scope variable\n",
    "        print(num)   # Reads the function-scope \"num\"\n",
    "    print(num)       # Reads the function-scope \"num\"\n",
    "\n",
    "function_scopes()"
   ]
  },
  {
   "cell_type": "markdown",
   "metadata": {},
   "source": [
    "Now, the last `print()` function sees the updated `num` value from the inner\n",
    "scope, because undeclared variables (Python-style variables) use function-level\n",
    "scope (instead of lexical scope)."
   ]
  }
 ],
 "metadata": {
  "kernelspec": {
   "display_name": "Mojo",
   "language": "mojo",
   "name": "mojo-jupyter-kernel"
  },
  "language_info": {
   "codemirror_mode": {
    "name": "mojo"
   },
   "file_extension": ".mojo",
   "mimetype": "text/x-mojo",
   "name": "mojo"
  },
  "orig_nbformat": 4
 },
 "nbformat": 4,
 "nbformat_minor": 2
}
