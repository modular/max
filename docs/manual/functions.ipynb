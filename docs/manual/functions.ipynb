{
 "cells": [
  {
   "cell_type": "raw",
   "metadata": {},
   "source": [
    "---\n",
    "title: Functions\n",
    "order: 2\n",
    "sidebar_position: 2\n",
    "description: Introduction to Mojo `fn` and `def` functions.\n",
    "css: /static/styles/page-navigation.css\n",
    "website:\n",
    "  open-graph:\n",
    "    image: /static/images/mojo-social-card.png\n",
    "  twitter-card:\n",
    "    image: /static/images/mojo-social-card.png\n",
    "---"
   ]
  },
  {
   "attachments": {},
   "cell_type": "markdown",
   "metadata": {},
   "source": [
    "As mentioned in [Language basics](/mojo/manual/basics), Mojo supports two\n",
    "types of functions: `def` and `fn` functions. You can use either declaration\n",
    "with any function, including the `main()` function, but they have different\n",
    "default behaviors, as described on this page.\n",
    "\n",
    "We believe both `def` and `fn` have good use cases and don't consider either to\n",
    "be better than the other. Deciding which to use is a matter personal taste as\n",
    "to which style best fits a given task.\n",
    "\n",
    "We believe Mojo's flexibility in this regard is a superpower that allows you to\n",
    "write code in the manner that's best for your project.\n",
    "\n",
    ":::{.callout-note}\n",
    "\n",
    "**Note:** Functions declared inside a\n",
    "[`struct`](/mojo/manual/structs.html) are called \"methods,\" but they\n",
    "have all the same qualities as \"functions\" described here.\n",
    "\n",
    ":::"
   ]
  },
  {
   "cell_type": "markdown",
   "metadata": {},
   "source": [
    "## `def` functions\n",
    "\n",
    "The `def` function provides the same dynamism and flexibility as a Python\n",
    "`def` function. For example, this function works the same in Python and Mojo:"
   ]
  },
  {
   "cell_type": "code",
   "execution_count": 1,
   "metadata": {},
   "outputs": [],
   "source": [
    "def greet(name):\n",
    "    greeting = \"Hello, \" + name + \"!\"\n",
    "    return greeting"
   ]
  },
  {
   "cell_type": "markdown",
   "metadata": {},
   "source": [
    "In Mojo, you also have the option to specify the argument type, return type,\n",
    "and variable mutability like this:"
   ]
  },
  {
   "cell_type": "code",
   "execution_count": 2,
   "metadata": {},
   "outputs": [],
   "source": [
    "def greet(name: String) -> String:\n",
    "    let greeting = \"Hello, \" + name + \"!\"\n",
    "    return greeting"
   ]
  },
  {
   "cell_type": "markdown",
   "metadata": {},
   "source": [
    "This way, the compiler ensures that `name` is a string, the return type is a\n",
    "string, and the `greeting` variable cannot mutate.\n",
    "\n",
    "Here's everything to know about `def`:\n",
    "\n",
    "- Arguments don't require a declared type.\n",
    "\n",
    "  Undeclared arguments are actually passed as an `object`, which allows the\n",
    "  function to receive any type (Mojo infers the type at runtime).\n",
    "\n",
    "- Return types don't need to be declared and also default to `object`.\n",
    "\n",
    "- Arguments are mutable (usually passed by value, using the `owned` [argument\n",
    "  convention](/mojo/manual/values/ownership.html#argument-conventions)).\n",
    "\n",
    "  If an argument is an `object` type, it's received as a reference, following\n",
    "  [object reference\n",
    "  semantics](/mojo/manual/values/value-semantics.html#python-style-reference-semantics).\n",
    "  \n",
    "  If an argument is any other declared type, it's received as a value (using\n",
    "  the `owned` [argument\n",
    "  convention](/mojo/manual/values/ownership.html#argument-conventions)).\n",
    "\n",
    "- [Variables](/mojo/manual/variables.html) don't need to be declared as\n",
    "  mutable (`var`) or immutable (`let`); they default to mutable."
   ]
  },
  {
   "cell_type": "markdown",
   "metadata": {},
   "source": [
    "### The `object` type\n",
    "\n",
    "If you don't declare the type for an argument or return value in a `def`, it\n",
    "becomes an [`object`](/mojo/stdlib/builtin/object.html#object), which is unlike\n",
    "any other type in the standard library.\n",
    "\n",
    "The `object` type allows for dynamic typing because it can actually represent\n",
    "any type in the Mojo standard library, and the actual type is inferred at\n",
    "runtime. (Actually, there's still more to do before it can represent all Mojo\n",
    "types.) This is great for compatibility with Python and all of the flexibility\n",
    "that it provides with dynamic types. However, this lack of type enforcement can\n",
    "lead to runtime errors when a function receives or returns an unexpected type.\n",
    "\n",
    "For compatibility with Python, `object` values are passed using [object\n",
    "reference\n",
    "semantics](/mojo/manual/values/value-semantics.html#python-style-reference-semantics).\n",
    "As such, the `object` type is not compatible with the [argument\n",
    "conventions](/mojo/manual/values/ownership.html#argument-conventions) that\n",
    "enforce value semantics. So, be careful if using `object` values alongside other\n",
    "strongly-typed values—their behavior might be inconsistent because `object` is \n",
    "the only type in the standard library that does not conform to [full value\n",
    "semantics](/mojo/manual/values/value-semantics.html#full-value-semantics)."
   ]
  },
  {
   "cell_type": "markdown",
   "metadata": {},
   "source": [
    "## `fn` functions\n",
    "\n",
    "The `fn` function provides strict type checking and additional memory safety.\n",
    "It basically forces you to write the optional things in `def`, and it ensures\n",
    "that you don't accidentally mutate received arguments. For example, here's the\n",
    "same function from above using `fn`:"
   ]
  },
  {
   "cell_type": "code",
   "execution_count": 3,
   "metadata": {},
   "outputs": [],
   "source": [
    "fn greet(name: String) -> String:\n",
    "    let greeting = \"Hello, \" + name + \"!\"\n",
    "    return greeting"
   ]
  },
  {
   "cell_type": "markdown",
   "metadata": {},
   "source": [
    "As far as a function caller is concerned, `def` and `fn` functions are\n",
    "interchangeable. That is, there's nothing a `def` can do that an `fn` can't\n",
    "(and vice versa). The difference is that, compared to a `def` function, an `fn`\n",
    "function is more strict on the inside.\n",
    "\n",
    "Here's everything to know about `fn`:\n",
    "\n",
    "- Arguments must specify a type (except for the\n",
    "  `self` argument in [struct methods](/mojo/manual/structs.html)).\n",
    "\n",
    "- Return values must specify a type, unless the function doesn't return a value.\n",
    "  \n",
    "  If you don't specify a return type, it defaults to `None` (meaning no return\n",
    "  value).\n",
    "\n",
    "- By default, arguments are received as an immutable reference (values are\n",
    "  read-only, using the `borrowed` [argument\n",
    "  convention](/mojo/manual/values/ownership.html#argument-conventions)).\n",
    "  \n",
    "  This prevents accidental mutations, and permits the use of non-copyable types\n",
    "  as arguments.\n",
    "  \n",
    "  If you want a local copy, you can simply assign the value to a local\n",
    "  variable. Or, you can get a mutable reference to the value by declaring the\n",
    "  `inout` [argument\n",
    "  convention](/mojo/manual/values/ownership.html#argument-conventions)).\n",
    "\n",
    "- [Variables](/mojo/manual/variables.html) must be declared as mutable\n",
    "  (`var`) or immutable (`let`).\n",
    "\n",
    "- If the function raises an exception, it must be explicitly declared with the\n",
    "  `raises` keyword. (A `def` function does not need to declare exceptions.)\n",
    "\n",
    "By enforcing these type checks, using the `fn` function helps avoid a variety\n",
    "of runtime errors. It also improves performance compared to the dynamic typing\n",
    "in a `def` function, because there's no overhead processing required to figure\n",
    "out what data types to use at runtime—the types are fixed at compile time."
   ]
  },
  {
   "cell_type": "markdown",
   "metadata": {},
   "source": [
    "## Optional arguments\n",
    "\n",
    "An optional argument is one that includes a default value, such as the `exp`\n",
    "argument here:"
   ]
  },
  {
   "cell_type": "code",
   "execution_count": 4,
   "metadata": {},
   "outputs": [],
   "source": [
    "fn pow(base: Int, exp: Int = 2) -> Int:\n",
    "    return base ** exp\n",
    "\n",
    "fn use_defaults():\n",
    "    # Uses the default value for `exp`\n",
    "    let z = pow(3)\n",
    "    print(z)"
   ]
  },
  {
   "cell_type": "markdown",
   "metadata": {},
   "source": [
    "However, you cannot define a default value for an argument that's declared as\n",
    "[`inout`](/mojo/manual/values/ownership.html#mutable-arguments-inout)."
   ]
  },
  {
   "cell_type": "markdown",
   "metadata": {},
   "source": [
    "## Keyword arguments\n",
    "\n",
    "You can also specify argument values using the argument names:"
   ]
  },
  {
   "cell_type": "code",
   "execution_count": 5,
   "metadata": {},
   "outputs": [],
   "source": [
    "fn pow(base: Int, exp: Int = 2) -> Int:\n",
    "    return base ** exp\n",
    "\n",
    "fn use_keywords():\n",
    "    # Uses keyword argument names (with order reversed)\n",
    "    let z = pow(exp=3, base=2)\n",
    "    print(z)"
   ]
  },
  {
   "cell_type": "markdown",
   "metadata": {},
   "source": [
    "::: {.callout-note}\n",
    "\n",
    "**Note:** Mojo currently includes only partial support for keyword arguments, so\n",
    "some features such as keyword-only arguments and variadic keyword arguments (e.g. `**kwargs`)\n",
    "are not supported yet.\n",
    "\n",
    ":::"
   ]
  },
  {
   "cell_type": "markdown",
   "metadata": {},
   "source": [
    "## Overloaded functions\n",
    "\n",
    "If a `def` function does not specify argument types, then it can accept any\n",
    "data type and decide how to handle each type internally. This is nice when you\n",
    "want expressive APIs that just work by accepting arbitrary inputs, so there's\n",
    "usually no need to write function overloads for a `def` function.\n",
    "\n",
    "On the other hand, all `fn` functions must specify argument types, so if you\n",
    "want a function to work with different data types, you need to implement\n",
    "separate versions of the function that each specify different argument types.\n",
    "This is called \"overloading\" a function.\n",
    "\n",
    "For example, here's an overloaded `add()` function that can accept either\n",
    "`Int` or `String` types:"
   ]
  },
  {
   "cell_type": "code",
   "execution_count": 6,
   "metadata": {},
   "outputs": [],
   "source": [
    "fn add(x: Int, y: Int) -> Int:\n",
    "    return x + y\n",
    "\n",
    "fn add(x: String, y: String) -> String:\n",
    "    return x + y"
   ]
  },
  {
   "cell_type": "markdown",
   "metadata": {},
   "source": [
    "If you pass anything other than `Int` or `String` to the `add()` function,\n",
    "you'll get a compiler error. That is, unless `Int` or `String` can implicitly\n",
    "cast the type into their own type. For example, `String` includes an overloaded\n",
    "version of its constructor (`__init__()`) that accepts a `StringLiteral` value.\n",
    "Thus, you can also pass a `StringLiteral` to a function that expects a `String`.\n",
    "\n",
    "When resolving an overloaded function call, the Mojo compiler tries each\n",
    "candidate function and uses the one that works (if only one version works), or\n",
    "it picks the closest match (if it can determine a close match), or it reports\n",
    "that the call is ambiguous (if it can’t figure out which one to pick).\n",
    "\n",
    "If the compiler can't figure out which function to use, you can resolve the\n",
    "ambiguity by explicitly casting your value to a supported argument type. For\n",
    "example, in the following code, we want to call the overloaded `foo()`\n",
    "function, but both implementations accept an argument that supports [implicit\n",
    "conversion](/mojo/manual/variables.html#implicit-type-conversion) from\n",
    "`StringLiteral`. So, the call to `foo(string)` is ambiguous and creates a\n",
    "compiler error. We can fix it by casting the value to the type we really want:"
   ]
  },
  {
   "cell_type": "code",
   "execution_count": 7,
   "metadata": {},
   "outputs": [],
   "source": [
    "@value\n",
    "struct MyString:\n",
    "    fn __init__(inout self, string: StringLiteral):\n",
    "        pass\n",
    "\n",
    "fn foo(name: String):\n",
    "    print(\"String\")\n",
    "\n",
    "fn foo(name: MyString):\n",
    "    print(\"MyString\")\n",
    "\n",
    "fn call_foo():\n",
    "    let string = \"Hello\"\n",
    "    # foo(string) # This call is ambiguous because two `foo` functions match it\n",
    "    foo(MyString(string))"
   ]
  },
  {
   "cell_type": "markdown",
   "metadata": {},
   "source": [
    "\n",
    "\n",
    "When resolving an overloaded function, Mojo does not consider the return type\n",
    "or other contextual information at the call site—only the argument types affect\n",
    "which function is selected.\n",
    "\n",
    "Overloading also works with combinations of both `fn` and `def` functions.\n",
    "For example, you could define multiple `fn` function overloads and then one\n",
    "or more `def` versions that don't specify all argument types, as a fallback.\n",
    "\n",
    ":::{.callout-note}\n",
    "\n",
    "**Note:** Although we haven't discussed\n",
    "[parameters](/mojo/manual/metaprogramming/parameters.html) yet (they're\n",
    "different from function arguments, and used for compile-time metaprogramming),\n",
    "you can also overload functions based on parameter types.\n",
    "\n",
    ":::"
   ]
  }
 ],
 "metadata": {
  "kernelspec": {
   "display_name": "Mojo",
   "language": "mojo",
   "name": "mojo-jupyter-kernel"
  },
  "language_info": {
   "codemirror_mode": {
    "name": "mojo"
   },
   "file_extension": ".mojo",
   "mimetype": "text/x-mojo",
   "name": "mojo"
  },
  "orig_nbformat": 4
 },
 "nbformat": 4,
 "nbformat_minor": 2
}
