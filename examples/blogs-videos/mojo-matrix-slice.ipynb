{
 "cells": [
  {
   "cell_type": "markdown",
   "metadata": {},
   "source": [
    "*Copyright 2023 Modular, Inc: Licensed under the Apache License v2.0 with LLVM Exceptions.*"
   ]
  },
  {
   "cell_type": "code",
   "execution_count": null,
   "metadata": {},
   "outputs": [],
   "source": [
    "from memory import memset_zero\n",
    "from algorithm import vectorize, parallelize\n",
    "from sys.intrinsics import strided_load\n",
    "from math import trunc, mod\n",
    "from random import rand\n",
    "\n",
    "struct Matrix[dtype: DType = DType.float32]:\n",
    "    var dim0: Int\n",
    "    var dim1: Int\n",
    "    var _data: DTypePointer[dtype]\n",
    "    alias simd_width: Int = simdwidthof[dtype]()\n",
    "\n",
    "    fn __init__(inout self, *dims: Int):\n",
    "        self.dim0 = dims[0]\n",
    "        self.dim1 = dims[1]\n",
    "        self._data = DTypePointer[dtype].alloc(dims[0] * dims[1])\n",
    "        rand(self._data, dims[0] * dims[1])\n",
    "\n",
    "    fn __copyinit__(inout self, other: Self):\n",
    "        self._data = other._data\n",
    "        self.dim0 = other.dim0\n",
    "        self.dim1 = other.dim1\n",
    "\n",
    "    fn _adjust_slice_(self, inout span: Slice, dim: Int):\n",
    "        if span.start < 0:\n",
    "            span.start = dim + span.start\n",
    "        if not span._has_end():\n",
    "            span.end = dim\n",
    "        elif span.end < 0:\n",
    "            span.end = dim + span.end\n",
    "        if span.end > dim:\n",
    "            span.end = dim\n",
    "        if span.end < span.start:\n",
    "            span.start = 0\n",
    "            span.end = 0\n",
    "\n",
    "    fn __getitem__(self, x: Int, y: Int) -> SIMD[dtype,1]:\n",
    "        return self._data.simd_load[1](x * self.dim1 + y)\n",
    "\n",
    "    fn __getitem__(self, owned row_slice: Slice, col: Int) -> Self:\n",
    "        return self.__getitem__(row_slice, slice(col,col+1))\n",
    "\n",
    "    fn __getitem__(self, row: Int, owned col_slice: Slice) -> Self:\n",
    "        return self.__getitem__(slice(row,row+1),col_slice)\n",
    "\n",
    "    fn __getitem__(self, owned row_slice: Slice, owned col_slice: Slice) -> Self:\n",
    "        self._adjust_slice_(row_slice, self.dim0)\n",
    "        self._adjust_slice_(col_slice, self.dim1)\n",
    "\n",
    "        var src_ptr = self._data\n",
    "        var sliced_mat = Self(row_slice.__len__(),col_slice.__len__())\n",
    "\n",
    "        @parameter\n",
    "        fn slice_column(idx_rows: Int):\n",
    "            src_ptr = self._data.offset(row_slice[idx_rows]*self.dim1+col_slice[0])\n",
    "            @parameter\n",
    "            fn slice_row[simd_width: Int](idx: Int) -> None:\n",
    "                sliced_mat._data.simd_store[simd_width](idx+idx_rows*col_slice.__len__(),\n",
    "                                                        strided_load[dtype,simd_width](src_ptr,col_slice.step))\n",
    "                src_ptr = src_ptr.offset(simd_width*col_slice.step)\n",
    "            vectorize[slice_row, self.simd_width](col_slice.__len__())\n",
    "        parallelize[slice_column](row_slice.__len__(),row_slice.__len__())\n",
    "        return sliced_mat\n",
    "\n",
    "    fn print(self, prec: Int=4)->None:\n",
    "        var rank:Int = 2\n",
    "        var dim0:Int = 0\n",
    "        var dim1:Int = 0\n",
    "        var val:Scalar[dtype]=0.0\n",
    "        if self.dim0 == 1:\n",
    "            rank = 1\n",
    "            dim0 = 1\n",
    "            dim1 = self.dim1\n",
    "        else:\n",
    "            dim0 = self.dim0\n",
    "            dim1 = self.dim1\n",
    "        if dim0>0 and dim1>0:\n",
    "            for j in range(dim0):\n",
    "                if rank>1:\n",
    "                    if j==0:\n",
    "                        print_no_newline(\"  [\")\n",
    "                    else:\n",
    "                        print_no_newline(\"\\n   \")\n",
    "                print_no_newline(\"[\")\n",
    "                for k in range(dim1):\n",
    "                    if rank==1:\n",
    "                        val = self._data.simd_load[1](k)\n",
    "                    if rank==2:\n",
    "                        val = self[j,k]\n",
    "                    var int_str: String\n",
    "                    if val > 0 or val == 0:\n",
    "                        int_str = String(trunc(val).cast[DType.int32]())\n",
    "                    else:\n",
    "                        int_str = \"-\"+String(trunc(val).cast[DType.int32]())\n",
    "                        val = -val\n",
    "                    var float_str: String\n",
    "                    float_str = String(mod(val,1))\n",
    "                    var s = int_str+\".\"+float_str[2:prec+2]\n",
    "                    if k==0:\n",
    "                        print_no_newline(s)\n",
    "                    else:\n",
    "                        print_no_newline(\"  \",s)\n",
    "                print_no_newline(\"]\")\n",
    "            if rank>1:\n",
    "                print_no_newline(\"]\")\n",
    "            print()\n",
    "            if rank>2:\n",
    "                print(\"]\")\n",
    "        print(\"  Matrix:\",self.dim0,'x',self.dim1,\",\",\"DType:\", dtype.__str__())\n",
    "        print()\n",
    "\n",
    "\n",
    "fn main():\n",
    "    var mat = Matrix(8,5)\n",
    "    mat.print()\n",
    "\n",
    "    mat[2:4,-3:].print()\n",
    "    mat[1:3,:].print()\n",
    "    mat[0:3,0:3].print()\n",
    "    mat[1::2,::2].print()\n",
    "    mat[:,-1:2].print()\n",
    "    mat[-1:2,:].print()\n",
    "\n",
    "main()"
   ]
  },
  {
   "cell_type": "code",
   "execution_count": null,
   "metadata": {},
   "outputs": [],
   "source": [
    "var mat = Matrix(8,5)\n",
    "mat.print()"
   ]
  },
  {
   "cell_type": "code",
   "execution_count": null,
   "metadata": {},
   "outputs": [],
   "source": [
    "mat[2:4,-3:].print()"
   ]
  },
  {
   "cell_type": "code",
   "execution_count": null,
   "metadata": {},
   "outputs": [],
   "source": [
    "mat[1:3,:].print()"
   ]
  },
  {
   "cell_type": "code",
   "execution_count": null,
   "metadata": {},
   "outputs": [],
   "source": [
    "mat[0:3,0:3].print()"
   ]
  },
  {
   "cell_type": "code",
   "execution_count": null,
   "metadata": {},
   "outputs": [],
   "source": [
    "mat[1::2,::2].print()"
   ]
  },
  {
   "cell_type": "code",
   "execution_count": null,
   "metadata": {},
   "outputs": [],
   "source": [
    "mat[:,-1:2].print()\n",
    "mat[-1:2,:].print()"
   ]
  }
 ],
 "metadata": {
  "kernelspec": {
   "display_name": "Mojo",
   "language": "mojo",
   "name": "mojo-jupyter-kernel"
  },
  "language_info": {
   "codemirror_mode": {
    "name": "mojo"
   },
   "file_extension": ".mojo",
   "mimetype": "text/x-mojo",
   "name": "mojo"
  }
 },
 "nbformat": 4,
 "nbformat_minor": 2
}
