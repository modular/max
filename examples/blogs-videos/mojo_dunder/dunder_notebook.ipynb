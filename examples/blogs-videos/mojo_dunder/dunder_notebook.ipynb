{
 "cells": [
  {
   "cell_type": "markdown",
   "metadata": {},
   "source": [
    "# Exploring dunder methods in Mojo"
   ]
  },
  {
   "cell_type": "code",
   "execution_count": 21,
   "metadata": {},
   "outputs": [],
   "source": [
    "from DunderArray import DunderArray\n",
    "from python import Python\n",
    "\n",
    "np = Python.import_module(\"numpy\")\n",
    "\n",
    "x = DunderArray(np.sin(np.arange(0,6,0.1)))\n",
    "y = DunderArray.rand(x.numel)\n",
    "\n",
    "z = x**3 + 3*x - x/5. + 0.3 + y**2"
   ]
  },
  {
   "cell_type": "code",
   "execution_count": 22,
   "metadata": {},
   "outputs": [
    {
     "data": {
      "image/png": "[encoded data removed]"
     },
     "metadata": {},
     "output_type": "display_data"
    },
    {
     "name": "stdout",
     "output_type": "stream",
     "text": [
      "\n"
     ]
    }
   ],
   "source": [
    "plt = Python.import_module(\"matplotlib.pyplot\")\n",
    "plt.plot(z.to_numpy(),'r')\n",
    "plt.show()"
   ]
  },
  {
   "cell_type": "code",
   "execution_count": 23,
   "metadata": {},
   "outputs": [
    {
     "name": "stdout",
     "output_type": "stream",
     "text": [
      "[0.0  0.0  0.0  0.0  0.0]\n",
      "Length:5, DType:float64\n",
      "[1.0  2.0  3.0  4.0  5.0]\n",
      "Length:5, DType:float64\n"
     ]
    }
   ],
   "source": [
    "arr1 = DunderArray(5)\n",
    "arr2 = DunderArray(1,2,3,4,5)\n",
    "print(arr1)\n",
    "print(arr2)"
   ]
  },
  {
   "cell_type": "code",
   "execution_count": 24,
   "metadata": {},
   "outputs": [
    {
     "name": "stdout",
     "output_type": "stream",
     "text": [
      "Original: [0.7684  0.2712  0.0591  0.2166  0.7079]\n",
      "Length:5, DType:float64\n",
      "\n",
      "Copy: [0.7684  0.2712  0.0591  0.2166  0.7079]\n",
      "Length:5, DType:float64\n"
     ]
    }
   ],
   "source": [
    "arr = DunderArray.rand(5)\n",
    "print(\"Original:\",arr)\n",
    "arr_copy = arr\n",
    "\n",
    "print()\n",
    "print(\"Copy:\",arr_copy)"
   ]
  },
  {
   "cell_type": "code",
   "execution_count": 25,
   "metadata": {},
   "outputs": [
    {
     "name": "stdout",
     "output_type": "stream",
     "text": [
      "[2.0  4.0  6.0  8.0]\n",
      "Length:4, DType:float64\n",
      "[2.0  4.0  6.0  8.0]\n",
      "Length:4, DType:float64\n"
     ]
    }
   ],
   "source": [
    "fn test_move():\n",
    "    var arr = DunderArray(2,4,6,8)\n",
    "    print(arr)\n",
    "    var arr_moved = arr^\n",
    "    print(arr_moved)\n",
    "    # print(arr) #<-- ERROR: use of uninitialized value 'arr'\n",
    "test_move()"
   ]
  },
  {
   "cell_type": "code",
   "execution_count": 26,
   "metadata": {},
   "outputs": [
    {
     "name": "stdout",
     "output_type": "stream",
     "text": [
      "4.0\n"
     ]
    }
   ],
   "source": [
    "arr = DunderArray(1,2,3,4,5)\n",
    "print(arr[3])"
   ]
  },
  {
   "cell_type": "code",
   "execution_count": 27,
   "metadata": {},
   "outputs": [
    {
     "name": "stdout",
     "output_type": "stream",
     "text": [
      "[1.0  2.0  3.0  100.0  5.0]\n",
      "Length:5, DType:float64\n"
     ]
    }
   ],
   "source": [
    "arr = DunderArray(1,2,3,4,5)\n",
    "arr[3]=100\n",
    "print(arr)"
   ]
  },
  {
   "cell_type": "code",
   "execution_count": 28,
   "metadata": {},
   "outputs": [
    {
     "name": "stdout",
     "output_type": "stream",
     "text": [
      "[1.0  2.0  3.0  4.0  5.0]\n",
      "Length:5, DType:float64\n",
      "[1.0  2.0  3.0  4.0  5.0]\n",
      "Length:5, DType:float64\n",
      "[-1.0  -2.0  -3.0  -4.0  -5.0]\n",
      "Length:5, DType:float64\n",
      "[False  True  False]\n",
      "Length:3, DType:bool\n"
     ]
    }
   ],
   "source": [
    "arr = DunderArray(1,2,3,4,5)\n",
    "print(+arr)\n",
    "print(arr)\n",
    "print(-arr)\n",
    "\n",
    "arr_bool = DunderArray[DType.bool](True,False,True)\n",
    "print(~arr_bool)"
   ]
  },
  {
   "cell_type": "markdown",
   "metadata": {},
   "source": []
  },
  {
   "cell_type": "code",
   "execution_count": 29,
   "metadata": {},
   "outputs": [
    {
     "name": "stdout",
     "output_type": "stream",
     "text": [
      "Norm of arr1: [29.1796]\n",
      "Length:1, DType:float64\n",
      "Norm of arr2: [33.7959]\n",
      "Length:1, DType:float64\n",
      "Comparing the squared euclidean norm of arr1 and arr2\n",
      "__lt__: arr1 <  arr2: True\n",
      "__le__: arr1 <= arr2: True\n",
      "__eq__: arr1 == arr2: False\n",
      "__ne__: arr1 != arr2: True\n",
      "__gt__: arr1 >  arr2: False\n",
      "__ge__: arr1 >= arr2: False\n"
     ]
    }
   ],
   "source": [
    "arr1 = DunderArray.rand(100)\n",
    "arr2 = DunderArray.rand(100)\n",
    "\n",
    "print(\"Norm of arr1:\",(arr1**2)._reduce_sum())\n",
    "print(\"Norm of arr2:\",(arr2**2)._reduce_sum())\n",
    "\n",
    "print(\"Comparing the squared euclidean norm of arr1 and arr2\")\n",
    "print(\"__lt__: arr1 <  arr2:\", arr1 <  arr2)\n",
    "print(\"__le__: arr1 <= arr2:\", arr1 <= arr2)\n",
    "print(\"__eq__: arr1 == arr2:\", arr1 == arr2)\n",
    "print(\"__ne__: arr1 != arr2:\", arr1 != arr2)\n",
    "print(\"__gt__: arr1 >  arr2:\", arr1 >  arr2)\n",
    "print(\"__ge__: arr1 >= arr2:\", arr1 >= arr2)\n"
   ]
  },
  {
   "cell_type": "code",
   "execution_count": 30,
   "metadata": {},
   "outputs": [
    {
     "name": "stdout",
     "output_type": "stream",
     "text": [
      "[100.1038  100.6068  100.2352  100.3556  100.5682]\n",
      "Length:5, DType:float64\n",
      "[100.1038  100.6068  100.2352  100.3556  100.5682]\n",
      "Length:5, DType:float64\n",
      "[100.1038  100.6068  100.2352  100.3556  100.5682]\n",
      "Length:5, DType:float64\n",
      "[100.1038  100.6068  100.2352  100.3556  100.5682]\n",
      "Length:5, DType:float64\n"
     ]
    }
   ],
   "source": [
    "arr1 = DunderArray.rand(5)\n",
    "arr2 = DunderArray(100,100,100,100,100)\n",
    "\n",
    "# Normal  and in-place\n",
    "print(arr1+100.0)\n",
    "print(arr1+arr2)\n",
    "\n",
    "# Reflected\n",
    "print(100.0+arr1)\n",
    "\n",
    "#In-place\n",
    "arr1+=100.0\n",
    "print(arr1)\n"
   ]
  },
  {
   "cell_type": "code",
   "execution_count": 31,
   "metadata": {},
   "outputs": [
    {
     "name": "stdout",
     "output_type": "stream",
     "text": [
      "[-99.4521  -99.5073  -99.8977  -99.8914  -99.6529]\n",
      "Length:5, DType:float64\n",
      "[-99.4521  -99.5073  -99.8977  -99.8914  -99.6529]\n",
      "Length:5, DType:float64\n",
      "[99.4521  99.5073  99.8977  99.8914  99.6529]\n",
      "Length:5, DType:float64\n",
      "[-99.4521  -99.5073  -99.8977  -99.8914  -99.6529]\n",
      "Length:5, DType:float64\n"
     ]
    }
   ],
   "source": [
    "arr1 = DunderArray.rand(5)\n",
    "arr2 = DunderArray(100,100,100,100,100)\n",
    "\n",
    "# Normal and in-place\n",
    "print(arr1-100.0)\n",
    "print(arr1-arr2)\n",
    "\n",
    "# Reflected\n",
    "print(100.0-arr1)\n",
    "\n",
    "#In-place\n",
    "arr1-=100.0\n",
    "print(arr1)"
   ]
  },
  {
   "cell_type": "code",
   "execution_count": 32,
   "metadata": {},
   "outputs": [
    {
     "name": "stdout",
     "output_type": "stream",
     "text": [
      "[82.3512  88.6479  70.7390  18.0723  84.8782]\n",
      "Length:5, DType:float64\n",
      "[82.3512  88.6479  70.7390  18.0723  84.8782]\n",
      "Length:5, DType:float64\n",
      "[82.3512  88.6479  70.7390  18.0723  84.8782]\n",
      "Length:5, DType:float64\n",
      "[82.3512  88.6479  70.7390  18.0723  84.8782]\n",
      "Length:5, DType:float64\n"
     ]
    }
   ],
   "source": [
    "arr1 = DunderArray.rand(5)\n",
    "arr2 = DunderArray(100,100,100,100,100)\n",
    "\n",
    "# Normal and in-place\n",
    "print(arr1*100.0)\n",
    "print(arr1*arr2)\n",
    "\n",
    "# Reflected\n",
    "print(100.0*arr1)\n",
    "\n",
    "#In-place\n",
    "arr1*=100.0\n",
    "print(arr1)"
   ]
  },
  {
   "cell_type": "code",
   "execution_count": 33,
   "metadata": {},
   "outputs": [
    {
     "name": "stdout",
     "output_type": "stream",
     "text": [
      "[1.1172]\n",
      "Length:1, DType:float64\n",
      "[1.1172]\n",
      "Length:1, DType:float64\n",
      "[1.1172]\n",
      "Length:1, DType:float64\n"
     ]
    }
   ],
   "source": [
    "arr1 = DunderArray.rand(5)\n",
    "arr2 = DunderArray.rand(5)\n",
    "\n",
    "# Normal and in-place\n",
    "print(arr1@arr2)\n",
    "\n",
    "#Verify\n",
    "print((arr1*arr2)._reduce_sum())\n",
    "\n",
    "#In-place\n",
    "arr1@=arr2\n",
    "print(arr1)"
   ]
  },
  {
   "cell_type": "code",
   "execution_count": 34,
   "metadata": {},
   "outputs": [
    {
     "name": "stderr",
     "output_type": "stream",
     "text": [
      "error: \u001b[0;1;31m\u001b[1mExpression [34]:3:7: \u001b[0m\u001b[1mcannot implicitly convert 'FloatLiteral' value to 'Int' in assignment\n",
      "\u001b[0mval = 10.0\n",
      "\u001b[0;1;32m      ^~~~\n",
      "\u001b[0m\u001b[0m\n",
      "error: \u001b[0;1;31m\u001b[1mExpression [34]:6:11: \u001b[0m\u001b[1mambiguous call to '__truediv__', each candidate requires 1 implicit conversion, disambiguate with an explicit cast\n",
      "\u001b[0mprint(arr1/val)\n",
      "\u001b[0;1;32m      ~~~~^~~~\n",
      "\u001b[0m\u001b[0m\n",
      "\u001b[0;1;30m\u001b[1m/Users/shashank/projects/demos/mojo-drafts/mojo_dunder/DunderArray.mojo:147:5: \u001b[0m\u001b[1mcandidate declared here\n",
      "\u001b[0m    fn __truediv__(self, s: Scalar[dtype])->Self:\n",
      "\u001b[0;1;32m    ^\n",
      "\u001b[0m\u001b[0m\n",
      "\u001b[0;1;30m\u001b[1m/Users/shashank/projects/demos/mojo-drafts/mojo_dunder/DunderArray.mojo:150:5: \u001b[0m\u001b[1mcandidate declared here\n",
      "\u001b[0m    fn __truediv__(self, other: Self)->Self:\n",
      "\u001b[0;1;32m    ^\n",
      "\u001b[0m\u001b[0m\n",
      "expression failed to parse (no further compiler diagnostics)"
     ]
    }
   ],
   "source": [
    "arr1 = DunderArray.rand(5)\n",
    "arr2 = DunderArray(10,10,10,10,10)\n",
    "val = 10.0\n",
    "\n",
    "print(arr1)\n",
    "print(arr1/val)\n",
    "print(arr1/arr2)\n",
    "print(val/arr1)\n",
    "arr2/=val\n",
    "print(arr2)"
   ]
  },
  {
   "cell_type": "code",
   "execution_count": null,
   "metadata": {},
   "outputs": [],
   "source": [
    "arr1 = DunderArray.rand(5)*100.0\n",
    "arr2 = DunderArray(10,10,10,10,10)\n",
    "val = 10.0\n",
    "\n",
    "print(arr1)\n",
    "print(arr1//val)\n",
    "print(arr1//arr2)\n",
    "print(val//arr1)\n",
    "arr2//=val\n",
    "print(arr2)"
   ]
  },
  {
   "cell_type": "code",
   "execution_count": null,
   "metadata": {},
   "outputs": [],
   "source": [
    "arr1 = DunderArray.rand(5)*100.0\n",
    "arr2 = DunderArray(10,10,10,10,10)\n",
    "val = 10.0\n",
    "\n",
    "print(arr1)\n",
    "print(arr1%val)\n",
    "print(arr1%arr2)\n",
    "print(val%arr1)\n",
    "arr2%=val\n",
    "print(arr2)"
   ]
  },
  {
   "cell_type": "code",
   "execution_count": null,
   "metadata": {},
   "outputs": [],
   "source": [
    "arr_pow = DunderArray(1,2,3,4,5)\n",
    "let val: Int = 2\n",
    "\n",
    "print(arr_pow)\n",
    "print(arr_pow**val)\n",
    "arr_pow**=val\n",
    "print(arr_pow)"
   ]
  },
  {
   "cell_type": "code",
   "execution_count": null,
   "metadata": {},
   "outputs": [],
   "source": [
    "arr_shift = DunderArray[DType.int32](1,2,3,4,5)\n",
    "\n",
    "print(arr_shift)\n",
    "print(arr_shift << 2)\n",
    "arr_shift<<=4\n",
    "print(arr_shift)\n",
    "print(arr_shift >> 2)\n",
    "arr_shift>>=4\n",
    "print(arr_shift)"
   ]
  },
  {
   "cell_type": "code",
   "execution_count": null,
   "metadata": {},
   "outputs": [],
   "source": [
    "arr_bool1 = DunderArray[DType.bool](1,1,1,1)\n",
    "arr_bool2 = DunderArray[DType.bool](1,0,1,0)\n",
    "\n",
    "print(\"AND:\")\n",
    "print(arr_bool1 & arr_bool2)\n",
    "arr_bool1&=arr_bool2\n",
    "print(arr_bool1)\n",
    "\n",
    "print(\"OR:\")\n",
    "print(arr_bool1 | arr_bool2)\n",
    "arr_bool1|=arr_bool2\n",
    "print(arr_bool1)\n",
    "\n",
    "print(\"XOR:\")\n",
    "print(arr_bool1 ^ arr_bool2)\n",
    "arr_bool1^=arr_bool2\n",
    "print(arr_bool1)"
   ]
  },
  {
   "cell_type": "code",
   "execution_count": null,
   "metadata": {},
   "outputs": [],
   "source": [
    "arr = DunderArray.rand(100)\n",
    "\n",
    "print(len(arr))\n",
    "print(int(arr))\n",
    "print(arr)\n"
   ]
  }
 ],
 "metadata": {
  "kernelspec": {
   "display_name": "Mojo",
   "language": "mojo",
   "name": "mojo-jupyter-kernel"
  },
  "language_info": {
   "codemirror_mode": {
    "name": "mojo"
   },
   "file_extension": ".mojo",
   "mimetype": "text/x-mojo",
   "name": "mojo"
  }
 },
 "nbformat": 4,
 "nbformat_minor": 2
}
